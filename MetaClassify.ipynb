{
 "cells": [
  {
   "cell_type": "code",
   "execution_count": 1,
   "metadata": {},
   "outputs": [],
   "source": [
    "import numpy as np\n",
    "import torch\n",
    "from torch import nn\n",
    "import torchvision\n",
    "from torchvision import transforms\n",
    "import moviepy.editor as mvp\n",
    "from IPython.display import display\n",
    "\n",
    "from utils import VideoWriter, imshow, get_coords\n",
    "from data_loader import MNIST\n",
    "from models import Siren"
   ]
  },
  {
   "cell_type": "code",
   "execution_count": 2,
   "metadata": {},
   "outputs": [],
   "source": [
    "data = MNIST(batch_size=1)\n",
    "coords = get_coords(28).cuda()\n",
    "\n",
    "image_loss_fn = nn.MSELoss()\n",
    "class_loss_fn = nn.CrossEntropyLoss()\n",
    "inner_lr = 1e-2\n",
    "optim_steps = 2"
   ]
  },
  {
   "cell_type": "code",
   "execution_count": 3,
   "metadata": {},
   "outputs": [
    {
     "data": {
      "image/png": "[encoded data removed]",
      "text/plain": [
       "<Figure size 432x288 with 1 Axes>"
      ]
     },
     "metadata": {
      "needs_background": "light"
     },
     "output_type": "display_data"
    }
   ],
   "source": [
    "meta_net = Siren(in_features=2, out_features=1, hidden_features=128, hidden_layers=2)\n",
    "meta_net.load_state_dict(torch.load('output/meta_net.pt'))\n",
    "meta_net.cuda()\n",
    "\n",
    "imshow(meta_net(coords).detach().reshape(1, 28, 28).cpu())"
   ]
  },
  {
   "cell_type": "code",
   "execution_count": 4,
   "metadata": {},
   "outputs": [],
   "source": [
    "meta_params = torch.cat([v.flatten() for v in meta_net.parameters()])\n",
    "\n",
    "c_model = nn.Sequential(\n",
    "    nn.Linear(meta_params.shape[0], 128),\n",
    "    nn.ReLU(),\n",
    "    nn.Linear(128, 64),\n",
    "    nn.ReLU(),\n",
    "    nn.Linear(64, 10)\n",
    ")\n",
    "c_model.cuda()\n",
    "\n",
    "c_optimizer = torch.optim.Adam(c_model.parameters(), lr=1e-3)"
   ]
  },
  {
   "cell_type": "code",
   "execution_count": 5,
   "metadata": {},
   "outputs": [
    {
     "name": "stdout",
     "output_type": "stream",
     "text": [
      "[1000 / 10000], loss: 1.342187595815165\n",
      "[2000 / 10000], loss: 0.6401899144402123\n",
      "[3000 / 10000], loss: 0.48276590961861077\n",
      "[4000 / 10000], loss: 0.4870504262665854\n",
      "[5000 / 10000], loss: 0.4288519535323867\n",
      "[6000 / 10000], loss: 0.42892770556734466\n",
      "[7000 / 10000], loss: 0.35494062229503104\n",
      "[8000 / 10000], loss: 0.3599475266253503\n",
      "[9000 / 10000], loss: 0.31653540969270577\n",
      "[10000 / 10000], loss: 0.3399554141372355\n",
      "Finished\n"
     ]
    }
   ],
   "source": [
    "print_every = 1000\n",
    "running_loss = 0\n",
    "break_at = 10000\n",
    "\n",
    "for i, [images, labels] in enumerate(data.train_loader, 0):\n",
    "    net = meta_net.clone()\n",
    "    optimizer = torch.optim.SGD(net.parameters(), lr=inner_lr)\n",
    "    target = images[0].reshape(-1, 1).cuda()\n",
    "    \n",
    "    # fit to image\n",
    "    for j in range(optim_steps):\n",
    "        y = net(coords)\n",
    "        loss = image_loss_fn(y, target)\n",
    "        optimizer.zero_grad()\n",
    "        loss.backward()\n",
    "        optimizer.step()\n",
    "    \n",
    "    # fit to class\n",
    "    x = (torch.cat([v.detach().flatten() for v in net.parameters()]) - meta_params).unsqueeze(0)\n",
    "    target = labels.cuda()\n",
    "    y = c_model(x)\n",
    "    loss = class_loss_fn(y, target)\n",
    "    c_optimizer.zero_grad()\n",
    "    loss.backward()\n",
    "    c_optimizer.step()\n",
    "    running_loss += loss.item()\n",
    "    \n",
    "    if (i + 1) % print_every == 0:\n",
    "        print(f'[{i + 1} / {min(break_at, len(data.train_loader))}], loss: {running_loss / print_every}')\n",
    "        running_loss = 0\n",
    "    \n",
    "    if i + 1 == break_at:\n",
    "        break\n",
    "\n",
    "torch.save(c_model.state_dict(), 'output/c_model.pt')\n",
    "\n",
    "print ('Finished')"
   ]
  },
  {
   "cell_type": "code",
   "execution_count": 6,
   "metadata": {},
   "outputs": [
    {
     "name": "stdout",
     "output_type": "stream",
     "text": [
      "[1000 / 10000]\n",
      "[2000 / 10000]\n",
      "[3000 / 10000]\n",
      "[4000 / 10000]\n",
      "[5000 / 10000]\n",
      "[6000 / 10000]\n",
      "[7000 / 10000]\n",
      "[8000 / 10000]\n",
      "[9000 / 10000]\n",
      "[10000 / 10000]\n",
      "Accuracy on first 10000: 90.80%\n"
     ]
    }
   ],
   "source": [
    "print_every = 1000\n",
    "break_at = 10000\n",
    "correct = 0\n",
    "total = 0\n",
    "\n",
    "for i, [images, labels] in enumerate(data.test_loader, 0):\n",
    "    net = meta_net.clone()\n",
    "    optimizer = torch.optim.SGD(net.parameters(), lr=inner_lr)\n",
    "    target = images[0].reshape(-1, 1).cuda()\n",
    "\n",
    "    # fit to image\n",
    "    for j in range(optim_steps):\n",
    "        y = net(coords)\n",
    "        loss = image_loss_fn(y, target)\n",
    "        optimizer.zero_grad()\n",
    "        loss.backward()\n",
    "        optimizer.step()\n",
    "\n",
    "    # predict class\n",
    "    with torch.no_grad():\n",
    "        x = (torch.cat([v.detach().flatten() for v in net.parameters()]) - meta_params).unsqueeze(0)\n",
    "        target = labels.cuda()\n",
    "        y = c_model(x)\n",
    "        _, predicted = torch.max(y, 1)\n",
    "        correct += (predicted == target).sum().item()\n",
    "        total += labels.size(0)\n",
    "\n",
    "    if (i + 1) % print_every == 0:\n",
    "        print(f'[{i + 1} / {min(break_at, len(data.test_loader))}]')\n",
    "\n",
    "    if i + 1 == break_at:\n",
    "        break\n",
    "\n",
    "print(f'Accuracy on first {break_at}: {(100 * correct / total):.2f}%')"
   ]
  }
 ],
 "metadata": {
  "kernelspec": {
   "display_name": "Python 3",
   "language": "python",
   "name": "python3"
  },
  "language_info": {
   "codemirror_mode": {
    "name": "ipython",
    "version": 3
   },
   "file_extension": ".py",
   "mimetype": "text/x-python",
   "name": "python",
   "nbconvert_exporter": "python",
   "pygments_lexer": "ipython3",
   "version": "3.7.3"
  }
 },
 "nbformat": 4,
 "nbformat_minor": 4
}
